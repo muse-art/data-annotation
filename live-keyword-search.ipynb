{
 "cells": [
  {
   "cell_type": "code",
   "execution_count": null,
   "metadata": {},
   "outputs": [],
   "source": [
    "!pip install sqlite3"
   ]
  },
  {
   "cell_type": "code",
   "execution_count": 2,
   "metadata": {},
   "outputs": [],
   "source": [
    "def search_by_filename(conn, filename):\n",
    "    cursor = conn.cursor()\n",
    "    query = '''\n",
    "    SELECT \n",
    "        f.file_id,\n",
    "        f.name AS filename,\n",
    "        GROUP_CONCAT(DISTINCT k.keyw_id) AS keyword_ids,\n",
    "        GROUP_CONCAT(DISTINCT mv.value) AS metadata_values\n",
    "    FROM \n",
    "        files f\n",
    "    LEFT JOIN \n",
    "        keywords k ON f.file_id = k.file_id\n",
    "    LEFT JOIN \n",
    "        metadata m ON f.file_id = m.file_id\n",
    "    LEFT JOIN \n",
    "        metadata_values mv ON m.value_id = mv.id\n",
    "    WHERE \n",
    "        f.name = ?\n",
    "    GROUP BY\n",
    "        f.file_id, f.name\n",
    "    '''\n",
    "    cursor.execute(query, (filename,))\n",
    "    return cursor.fetchall()\n",
    "\n",
    "def process_search_results(filename, conn):\n",
    "    results = search_by_filename(conn, filename)\n",
    "\n",
    "    if results:\n",
    "        print(f\"Results for '{filename}':\")\n",
    "        for row in results:\n",
    "            print(f\"File ID: {row[0]}, Filename: {row[1]}\")\n",
    "            print(\"Keyword IDs:\", row[2])\n",
    "            print(\"Metadata Values:\", row[3])\n",
    "            \n",
    "            metadata_values = row[3].split(',')\n",
    "            \n",
    "            # Extract Character keywords and remove prefixes\n",
    "            character_keywords = [value.strip().split('|')[1] for value in metadata_values if value.strip().startswith('Character|')]\n",
    "            \n",
    "            # Extract and separate Sounds keywords\n",
    "            sounds_keywords = [value.strip().split('|')[1:] for value in metadata_values if value.strip().startswith('Sounds|')]\n",
    "            sounds1_keywords = list(set(kw[0] for kw in sounds_keywords))\n",
    "            sounds2_keywords = list(set(kw[1] for kw in sounds_keywords if len(kw) > 1))\n",
    "            \n",
    "            # Extract base instrument\n",
    "            base_instrument = next((value.strip() for value in metadata_values if value.strip() in ['Wavetable', 'Analog', 'Operator', 'Sampler']), None)\n",
    "            \n",
    "            # Determine if it's an instrument rack\n",
    "            is_instrument_rack = 'Instrument Rack' in metadata_values\n",
    "            \n",
    "            print(\"\\nCharacter Keywords:\", character_keywords)\n",
    "            print(\"Sounds1 Keywords:\", sounds1_keywords)\n",
    "            print(\"Sounds2 Keywords:\", sounds2_keywords)\n",
    "            print(\"Base Instrument:\", base_instrument)\n",
    "            print(\"Is Instrument Rack:\", is_instrument_rack)\n",
    "            print()\n",
    "    else:\n",
    "        print(f\"No results found for '{filename}'\")\n",
    "\n"
   ]
  },
  {
   "cell_type": "code",
   "execution_count": 3,
   "metadata": {},
   "outputs": [
    {
     "name": "stdout",
     "output_type": "stream",
     "text": [
      "Connected to the database successfully.\n"
     ]
    }
   ],
   "source": [
    "import sqlite3\n",
    "\n",
    "# Create a connection to the SQLite database\n",
    "conn = sqlite3.connect('./Live-files-1218.db')\n",
    "\n",
    "print(\"Connected to the database successfully.\")\n"
   ]
  },
  {
   "cell_type": "code",
   "execution_count": 5,
   "metadata": {},
   "outputs": [
    {
     "name": "stdout",
     "output_type": "stream",
     "text": [
      "Results for 'Don't Laugh.adv':\n",
      "File ID: 7196, Filename: Don't Laugh.adv\n",
      "Keyword IDs: 8596,8620\n",
      "Metadata Values: Created by: Felix Zoepf,device:ableton:instr:InstrumentMeld,Meld,Instrument,Character|Digital,Sounds|Ambience & FX|Sound FX\n",
      "\n",
      "Character Keywords: ['Digital']\n",
      "Sounds1 Keywords: ['Ambience & FX']\n",
      "Sounds2 Keywords: ['Sound FX']\n",
      "Base Instrument: None\n",
      "Is Instrument Rack: False\n",
      "\n"
     ]
    }
   ],
   "source": [
    "filename = \"Don't Laugh.adv\"\n",
    "process_search_results(filename, conn)"
   ]
  },
  {
   "cell_type": "code",
   "execution_count": null,
   "metadata": {},
   "outputs": [],
   "source": []
  }
 ],
 "metadata": {
  "kernelspec": {
   "display_name": "base",
   "language": "python",
   "name": "python3"
  },
  "language_info": {
   "codemirror_mode": {
    "name": "ipython",
    "version": 3
   },
   "file_extension": ".py",
   "mimetype": "text/x-python",
   "name": "python",
   "nbconvert_exporter": "python",
   "pygments_lexer": "ipython3",
   "version": "3.8.8"
  }
 },
 "nbformat": 4,
 "nbformat_minor": 2
}
